{
    "metadata": {
        "kernelspec": {
            "name": "sparkrkernel",
            "display_name": "Spark | R"
        },
        "language_info": {
            "name": "sparkR",
            "mimetype": "text/x-rsrc",
            "codemirror_mode": "text/x-rsrc",
            "pygments_lexer": "r"
        }
    },
    "nbformat_minor": 2,
    "nbformat": 4,
    "cells": [
        {
            "cell_type": "code",
            "source": "%%configure -f\r\n{\r\n    \"executorMemory\": \"2g\",\r\n    \"driverMemory\": \"2g\",\r\n    \"executorCores\": 2,\r\n    \"driverCores\": 2,\r\n    \"numExecutors\": 10\r\n}",
            "metadata": {
                "language": "python"
            },
            "outputs": [
                {
                    "data": {
                        "text/plain": "<IPython.core.display.HTML object>",
                        "text/html": "Current session configs: <tt>{'executorMemory': '2g', 'driverMemory': '2g', 'executorCores': 2, 'driverCores': 2, 'numExecutors': 10, 'kind': 'sparkr'}</tt><br>"
                    },
                    "metadata": {},
                    "output_type": "display_data"
                },
                {
                    "data": {
                        "text/plain": "<IPython.core.display.HTML object>",
                        "text/html": "No active sessions."
                    },
                    "metadata": {},
                    "output_type": "display_data"
                }
            ],
            "execution_count": 2
        },
        {
            "cell_type": "code",
            "source": "# Print the hostname for informational purposes\r\nprint(Sys.info()[\"nodename\"])\r\n\r\n# Define random values for hyperparameter(s)\r\nset.seed(1)\r\nalpha <- runif(n = 40, min = 0.01, max = 0.99)\r\n\r\n# Create R dataframe of hyperparameter values\r\nparams_df <- data.frame(alpha)\r\nprint(params_df)\r\n\r\n# Create Spark dataframe of hyperparameter values with one partition per row\r\nparams_sdf <- createDataFrame(params_df, numPartitions = nrow(params_df))\r\n",
            "metadata": {
                "language": "python"
            },
            "outputs": [
                {
                    "name": "stdout",
                    "text": "Starting Spark application\n",
                    "output_type": "stream"
                },
                {
                    "data": {
                        "text/plain": "<IPython.core.display.HTML object>",
                        "text/html": "<table>\n<tr><th>ID</th><th>YARN Application ID</th><th>Kind</th><th>State</th><th>Spark UI</th><th>Driver log</th><th>Current session?</th></tr><tr><td>16</td><td>application_1550601622592_0017</td><td>sparkr</td><td>idle</td><td><a target=\"_blank\" href=\"https://104.42.40.40:30443/gateway/default/yarn/proxy/application_1550601622592_0017/\">Link</a></td><td><a target=\"_blank\" href=\"http://mssql-storage-pool-default-1.service-storage-pool-default.test.svc.cluster.local:8042/node/containerlogs/container_1550601622592_0017_01_000001/root\">Link</a></td><td>✔</td></tr></table>"
                    },
                    "metadata": {},
                    "output_type": "display_data"
                },
                {
                    "name": "stdout",
                    "text": "SparkSession available as 'spark'.\n",
                    "output_type": "stream"
                },
                {
                    "name": "stdout",
                    "text": "                      nodename \n\"mssql-storage-pool-default-1\" \n        alpha\n1  0.27019849\n2  0.37468142\n3  0.57139630\n4  0.90004363\n5  0.20764829\n6  0.89042189\n7  0.93578176\n8  0.65758184\n9  0.62653176\n10 0.07055055\n11 0.21185508\n12 0.18302562\n13 0.68328239\n14 0.38642164\n15 0.76444459\n16 0.49774526\n17 0.71326614\n18 0.98206797\n19 0.38243448\n20 0.77189632\n21 0.92601113\n22 0.21789967\n23 0.64864029\n24 0.13304399\n25 0.27187626\n26 0.38839181\n27 0.02312253\n28 0.38474020\n29 0.86229703\n30 0.34354202\n31 0.48243851\n32 0.59757451\n33 0.49367048\n34 0.19249325\n35 0.82082585\n36 0.66509740\n37 0.78835506\n38 0.11578475\n39 0.71923673\n40 0.41304894\nWarning message:\nclosing unused connection 3 (->localhost:44545) ",
                    "output_type": "stream"
                }
            ],
            "execution_count": 3
        },
        {
            "cell_type": "code",
            "source": "fit_and_evaluate <- function(hyperparams) {\r\n    .libPaths(c(\"/tmp/extra-libs\"))\r\n    library(glmnet)\r\n    library(pROC)\r\n\r\n    local_data_dir <- tempfile()\r\n    dir.create(local_data_dir)\r\n\r\n    X_train_rds_local <- file.path(local_data_dir, \"X_train.rds\")\r\n    X_test_rds_local <- file.path(local_data_dir, \"X_test.rds\")\r\n    y_train_rds_local <- file.path(local_data_dir, \"y_train.rds\")\r\n    y_test_rds_local <- file.path(local_data_dir, \"y_test.rds\")\r\n\r\n    # Copy data from HDFS to local temporary directory\r\n    system2(\"hdfs\", args = c(\"dfs\", \"-copyToLocal\", \"/tmp/data/*.rds\", local_data_dir))\r\n\r\n    X_train <- readRDS(X_train_rds_local)\r\n    X_test <- readRDS(X_test_rds_local)\r\n    y_train <- readRDS(y_train_rds_local)\r\n    y_test <- readRDS(y_test_rds_local)\r\n\r\n    alpha <- hyperparams[1]\r\n\r\n    # Fit models on training data\r\n    models <- glmnet(X_train, y_train, \r\n                    alpha=alpha, nlambda = 50, \r\n                    family=\"binomial\")\r\n\r\n    # Predict on test data\r\n    test_pred <- predict(models, X_test, type=\"response\")\r\n\r\n    # Evaluate ROC AUC of each model\r\n    test_set_aucs <- vector()\r\n    for (i in 1:length(models$lambda)) {\r\n        test_set_auc <- as.numeric(pROC::auc(factor(y_test), test_pred[,i], direction='<'))\r\n        test_set_aucs[i] <- test_set_auc\r\n    }\r\n\r\n    # Identify the best model (highest AUC)\r\n    max_auc <- 0\r\n    best_lambda <- 0\r\n    for (i in 1:length(models$lambda)) {\r\n        if (test_set_aucs[i] > max_auc) {\r\n            max_auc <- test_set_aucs[i]\r\n            best_lambda <- models$lambda[i]\r\n        }\r\n    }\r\n\r\n    # Delete local temporary directory\r\n    unlink(local_data_dir, recursive = TRUE)\r\n\r\n    # Return the hyperparameters and AUC of the best model\r\n    unlist(c(alpha, lambda = best_lambda, auc = max_auc))\r\n  }",
            "metadata": {
                "language": "sparkR"
            },
            "outputs": [],
            "execution_count": 7
        },
        {
            "cell_type": "code",
            "source": "# Invoke fit_and_evaluate() in parallel on each set of hyperparameter values\r\n\r\ntuning_results_matrix <- dapplyCollect(\r\n  params_sdf,\r\n  func = fit_and_evaluate)\r\n\r\ntuning_results <- as.data.frame(tuning_results_matrix)\r\nsorted_results <- tuning_results[order(tuning_results$auc, decreasing = TRUE),]\r\n\r\nprint(sorted_results)",
            "metadata": {
                "language": "sparkR"
            },
            "outputs": [
                {
                    "name": "stdout",
                    "text": "        alpha     lambda       auc\n10 0.07055055 0.69599773 0.9280610\n27 0.02312253 2.33286300 0.9275246\n38 0.11578475 0.42408882 0.9275158\n24 0.13304399 0.36907355 0.9271217\n12 0.18302562 0.24421930 0.9257864\n34 0.19249325 0.23220757 0.9255563\n5  0.20764829 0.21526008 0.9252166\n11 0.21185508 0.21098568 0.9251205\n22 0.21789967 0.20513289 0.9249732\n1  0.27019849 0.16542797 0.9237309\n25 0.27187626 0.16440711 0.9236879\n30 0.34354202 0.10781504 0.9214702\n2  0.37468142 0.08998720 0.9204354\n19 0.38243448 0.08816290 0.9201978\n28 0.38474020 0.08763454 0.9201257\n14 0.38642164 0.08725322 0.9200705\n26 0.38839181 0.08681061 0.9200045\n40 0.41304894 0.07430620 0.9190673\n31 0.48243851 0.05791196 0.9165451\n33 0.49367048 0.05659435 0.9161414\n16 0.49774526 0.05613104 0.9160028\n3  0.57139630 0.04450989 0.9135842\n32 0.59757451 0.04256002 0.9127596\n9  0.62653176 0.03695171 0.9118195\n23 0.64864029 0.03569223 0.9110858\n8  0.65758184 0.03520690 0.9108012\n36 0.66509740 0.03480906 0.9105806\n13 0.68328239 0.03388265 0.9100204\n17 0.71326614 0.03565680 0.9090571\n39 0.71923673 0.03536080 0.9088735\n15 0.76444459 0.05322670 0.9074231\n20 0.77189632 0.05271286 0.9072616\n37 0.78835506 0.05161236 0.9068901\n35 0.82082585 0.04957064 0.9061023\n18 0.98206797 0.07999232 0.9052033\n7  0.93578176 0.08394895 0.9051903\n21 0.92601113 0.08483472 0.9051816\n29 0.86229703 0.08293094 0.9051487\n4  0.90004363 0.08728232 0.9051371\n6  0.89042189 0.08822547 0.9051174",
                    "output_type": "stream"
                }
            ],
            "execution_count": 8
        },
        {
            "cell_type": "code",
            "source": "%%cleanup -f",
            "metadata": {
                "language": "python"
            },
            "outputs": [],
            "execution_count": 6
        }
    ]
}