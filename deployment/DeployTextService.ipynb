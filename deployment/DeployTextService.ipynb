{
 "cells": [
  {
   "cell_type": "code",
   "execution_count": 40,
   "metadata": {},
   "outputs": [
    {
     "name": "stdout",
     "output_type": "stream",
     "text": [
      "SDK version: 0.1.0.1005480\n"
     ]
    }
   ],
   "source": [
    "from azureml.core import Workspace\n",
    "import azureml.core\n",
    "\n",
    "# Check core SDK version number\n",
    "print(\"SDK version:\", azureml.core.VERSION)"
   ]
  },
  {
   "cell_type": "code",
   "execution_count": 42,
   "metadata": {},
   "outputs": [
    {
     "name": "stderr",
     "output_type": "stream",
     "text": [
      "UserWarning: The resource group doesn't exist or was not provided. AzureML SDK is creating a resource group=marinchprodrg2 in location=eastus2euap using subscription=6a275e9b-a3e6-42c2-b158-760d27f5cb83\n"
     ]
    },
    {
     "name": "stdout",
     "output_type": "stream",
     "text": [
      "Workspace name: mywsprod2\n",
      "Azure region: eastus2euap\n",
      "Subscription id: 6a275e9b-a3e6-42c2-b158-760d27f5cb83\n",
      "Resource group: marinchprodrg2\n"
     ]
    }
   ],
   "source": [
    "ws = Workspace.get_or_create(name='mywsprod2', location='eastus2euap', subscription_id='6a275e9b-a3e6-42c2-b158-760d27f5cb83', resource_group='marinchprodrg2')\n",
    "print('Workspace name: ' + ws.name, \n",
    "      'Azure region: ' + ws.location, \n",
    "      'Subscription id: ' + ws.subscription_id, \n",
    "      'Resource group: ' + ws.resource_group, sep = '\\n')"
   ]
  },
  {
   "cell_type": "code",
   "execution_count": 43,
   "metadata": {},
   "outputs": [
    {
     "name": "stdout",
     "output_type": "stream",
     "text": [
      "Data files here\n"
     ]
    }
   ],
   "source": [
    "# get the text data from the github repo and unzip it\n",
    "from fit_and_store_pipeline import unzip_file_here\n",
    "import urllib\n",
    "import os\n",
    "\n",
    "if not os.path.isfile('./attack_data.csv'):\n",
    "    if not os.path.isfile('./text_data.zip'): \n",
    "        urllib.request.urlretrieve('https://activelearning.blob.core.windows.net/activelearningdemo/text_data.zip', 'text_data.zip')\n",
    "    unzip_file_here('text_data.zip')\n",
    "\n",
    "if not os.path.isfile('miniglove_6B_50d_w2v.txt'):\n",
    "    unzip_file_here('miniglove_6B_50d_w2v.zip')\n",
    "    \n",
    "print('Data files here')"
   ]
  },
  {
   "cell_type": "code",
   "execution_count": 44,
   "metadata": {},
   "outputs": [
    {
     "name": "stdout",
     "output_type": "stream",
     "text": [
      "[[861  14]\n",
      " [ 75  50]]\n",
      "{\"result\": [1, 0, 0, 0, 1]}\n"
     ]
    }
   ],
   "source": [
    "from fit_and_store_pipeline import *\n",
    "script_main()"
   ]
  },
  {
   "cell_type": "code",
   "execution_count": 46,
   "metadata": {},
   "outputs": [
    {
     "name": "stdout",
     "output_type": "stream",
     "text": [
      "Overwriting myenv.yml\n"
     ]
    }
   ],
   "source": [
    "%%writefile myenv.yml\n",
    "name: myenv\n",
    "channels:\n",
    "  - defaults\n",
    "dependencies:\n",
    "  - pip:\n",
    "    - numpy\n",
    "    - scikit-learn"
   ]
  },
  {
   "cell_type": "markdown",
   "metadata": {},
   "source": [
    "### Create `score.py` file\n",
    "The `%%writefile` cell magic is used to write the scoring function to a local file. "
   ]
  },
  {
   "cell_type": "code",
   "execution_count": 47,
   "metadata": {},
   "outputs": [
    {
     "name": "stdout",
     "output_type": "stream",
     "text": [
      "Writing score.py\n"
     ]
    }
   ],
   "source": [
    "%%writefile score.py\n",
    "import pickle\n",
    "import json\n",
    "import numpy\n",
    "from sklearn.externals import joblib\n",
    "from sklearn.ensemble import RandomForestClassifier\n",
    "\n",
    "def init():\n",
    "    global model\n",
    "    model = joblib.load(\"attack_model.pkl\")\n",
    "\n",
    "# note you can pass in multiple rows for scoring\n",
    "def run(raw_data):\n",
    "    try:\n",
    "        data = json.loads(raw_data)['data']\n",
    "        data = numpy.array(data)\n",
    "        result = model.predict(data)\n",
    "    except Exception as e:\n",
    "        result = str(e)\n",
    "    return json.dumps({\"result\": result.tolist()})"
   ]
  },
  {
   "cell_type": "code",
   "execution_count": 48,
   "metadata": {},
   "outputs": [],
   "source": [
    "# you may need to register the provider in your subscription \n",
    "# az provider register -n Microsoft.ContainerInstance\n",
    "\n",
    "from azureml.core.webservice import AciWebservice\n",
    "\n",
    "aciconfig = AciWebservice.deploy_configuration(cpu_cores = 1, \n",
    "                                               memory_gb = 1, \n",
    "                                               tags = ['MLADS'], \n",
    "                                               description = 'Toxicity scoring')"
   ]
  },
  {
   "cell_type": "code",
   "execution_count": 46,
   "metadata": {},
   "outputs": [
    {
     "data": {
      "text/plain": [
       "'C:\\\\Users\\\\marinch\\\\Source\\\\repos\\\\active-learning-workshop\\\\deployment'"
      ]
     },
     "execution_count": 46,
     "metadata": {},
     "output_type": "execute_result"
    }
   ],
   "source": [
    "os.getcwd()"
   ]
  },
  {
   "cell_type": "code",
   "execution_count": 49,
   "metadata": {},
   "outputs": [
    {
     "name": "stdout",
     "output_type": "stream",
     "text": [
      "Registering model attack_model.pkl\n"
     ]
    },
    {
     "name": "stderr",
     "output_type": "stream",
     "text": [
      "Client-Request-ID=19303a06-6e7e-11e8-b270-dc53600a4933 Retry policy did not allow for a retry: Server-Timestamp=Tue, 12 Jun 2018 20:20:49 GMT, Server-Request-ID=04a41f5e-001e-0031-668a-02c4ba000000, HTTP status code=409, Exception=The specified container already exists.ErrorCode: ContainerAlreadyExists<?xml version=\"1.0\" encoding=\"utf-8\"?><Error><Code>ContainerAlreadyExists</Code><Message>The specified container already exists.RequestId:04a41f5e-001e-0031-668a-02c4ba000000Time:2018-06-12T20:20:49.8977641Z</Message></Error>.\n",
      "Client-Request-ID=1972c89c-6e7e-11e8-b503-dc53600a4933 Retry policy did not allow for a retry: Server-Timestamp=Tue, 12 Jun 2018 20:20:49 GMT, Server-Request-ID=9c218da2-101e-0060-598a-025936000000, HTTP status code=409, Exception=The specified container already exists.ErrorCode: ContainerAlreadyExists<?xml version=\"1.0\" encoding=\"utf-8\"?><Error><Code>ContainerAlreadyExists</Code><Message>The specified container already exists.RequestId:9c218da2-101e-0060-598a-025936000000Time:2018-06-12T20:20:50.3398140Z</Message></Error>.\n",
      "Client-Request-ID=19b4d8c6-6e7e-11e8-b205-dc53600a4933 Retry policy did not allow for a retry: Server-Timestamp=Tue, 12 Jun 2018 20:20:50 GMT, Server-Request-ID=77a45fa6-001e-0088-0b8a-02c0a0000000, HTTP status code=409, Exception=The specified container already exists.ErrorCode: ContainerAlreadyExists<?xml version=\"1.0\" encoding=\"utf-8\"?><Error><Code>ContainerAlreadyExists</Code><Message>The specified container already exists.RequestId:77a45fa6-001e-0088-0b8a-02c0a0000000Time:2018-06-12T20:20:50.7716672Z</Message></Error>.\n"
     ]
    },
    {
     "name": "stdout",
     "output_type": "stream",
     "text": [
      "Creating image\n",
      "Image creation operation finished for image my-svc1:1, operation \"Succeeded\"\n",
      "Creating service\n",
      "Running...........................................................................\n",
      "FailedACI service creation operation finished, operation \"Failed\"\n",
      "Service creation failed, unexpected error response:\n",
      "{'code': 'AciDeploymentFailed', 'message': 'Aci Deployment failed', 'details': [{'code': 'CrashLoopBackOff', 'message': 'CrashLoopBackOff: Back-off 20s restarting failed'}]}\n",
      "Wall time: 10min 2s\n"
     ]
    }
   ],
   "source": [
    "%%time\n",
    "# this will take 5-10 minutes to finish\n",
    "# you can also use \"az container list\" command to find the ACI being deployed\n",
    "service = ws.deploy_webservice(name = 'my-svc1',\n",
    "                               deploy_config = aciconfig,\n",
    "                               target = None,\n",
    "                               models = ['attack_model.pkl'],\n",
    "                               runtime = 'python',\n",
    "                               conda_file = 'myenv.yml',\n",
    "                               driver = 'score.py')\n",
    "service.wait_for_deployment(show_output = True)"
   ]
  },
  {
   "cell_type": "markdown",
   "metadata": {},
   "source": [
    "\n",
    "## Test web service"
   ]
  },
  {
   "cell_type": "code",
   "execution_count": 53,
   "metadata": {
    "scrolled": false
   },
   "outputs": [
    {
     "name": "stdout",
     "output_type": "stream",
     "text": [
      "web service is hosted in ACI: http://40.114.78.215:5001/score\n"
     ]
    }
   ],
   "source": [
    "print('web service is hosted in ACI:', service.scoring_uri)"
   ]
  },
  {
   "cell_type": "markdown",
   "metadata": {},
   "source": [
    "Feed 100 rows of data to get predictions."
   ]
  },
  {
   "cell_type": "code",
   "execution_count": 54,
   "metadata": {},
   "outputs": [
    {
     "name": "stderr",
     "output_type": "stream",
     "text": [
      "C:\\Users\\marinch\\AppData\\Local\\Continuum\\Miniconda3\\envs\\bugbashenv\\lib\\site-packages\\ipykernel\\__main__.py:7: FutureWarning: Method .as_matrix will be removed in a future version. Use .values instead.\n"
     ]
    }
   ],
   "source": [
    "import pandas as pd\n",
    "\n",
    "test_set_file = \"test_set_01.csv\"\n",
    "\n",
    "test_data = pd.read_csv(test_set_file)\n",
    "\n",
    "test_array = test_data.iloc[0:100, 1:51].as_matrix()"
   ]
  },
  {
   "cell_type": "code",
   "execution_count": 55,
   "metadata": {},
   "outputs": [
    {
     "data": {
      "text/plain": [
       "'{\"result\": [0, 0, 0, 0, 0, 0, 0, 0, 0, 0, 0, 0, 0, 0, 0, 0, 0, 0, 0, 0, 0, 0, 0, 0, 0, 0, 0, 0, 0, 0, 0, 0, 0, 0, 0, 0, 0, 0, 0, 0, 0, 0, 0, 0, 0, 0, 0, 0, 0, 0, 0, 0, 0, 0, 0, 1, 0, 0, 0, 0, 0, 0, 0, 0, 0, 0, 0, 0, 0, 0, 0, 0, 0, 0, 0, 0, 0, 0, 0, 0, 0, 0, 0, 0, 0, 0, 0, 0, 0, 0, 0, 0, 0, 0, 0, 0, 0, 0, 0, 0]}'"
      ]
     },
     "execution_count": 55,
     "metadata": {},
     "output_type": "execute_result"
    }
   ],
   "source": [
    "import json\n",
    "\n",
    "test_samples = json.dumps({\"data\": test_array.tolist()})\n",
    "test_samples = bytes(test_samples, encoding = 'utf8')\n",
    "\n",
    "# Call scoring service\n",
    "service.run(input_data = test_samples)"
   ]
  },
  {
   "cell_type": "markdown",
   "metadata": {},
   "source": [
    "## Delete ACI to clean up"
   ]
  },
  {
   "cell_type": "markdown",
   "metadata": {},
   "source": [
    "Deleting ACI is super fast!"
   ]
  },
  {
   "cell_type": "code",
   "execution_count": 37,
   "metadata": {
    "scrolled": true
   },
   "outputs": [
    {
     "name": "stdout",
     "output_type": "stream",
     "text": [
      "Wall time: 1.6 s\n"
     ]
    }
   ],
   "source": [
    "%%time \n",
    "service.delete()"
   ]
  },
  {
   "cell_type": "code",
   "execution_count": 51,
   "metadata": {},
   "outputs": [],
   "source": [
    "# Handy cleanup cell to delete all existing services \n",
    "from azureml.core.webservice import Webservice\n",
    "\n",
    "services = Webservice.list(workspace=ws)\n",
    "for i in range(0, len(services)):\n",
    "    try:\n",
    "        services[i].delete()\n",
    "    except:\n",
    "        pass"
   ]
  },
  {
   "cell_type": "code",
   "execution_count": 50,
   "metadata": {},
   "outputs": [
    {
     "data": {
      "text/plain": [
       "'2018-06-12 20:31:25,238 CRIT Supervisor running as root (no user in config file)\\n2018-06-12 20:31:25,241 INFO supervisord started with pid 1\\n2018-06-12 20:31:26,243 INFO spawned: \\'rsyslog\\' with pid 7\\n2018-06-12 20:31:26,245 INFO spawned: \\'program_exit\\' with pid 8\\n2018-06-12 20:31:26,250 INFO spawned: \\'nginx\\' with pid 9\\n2018-06-12 20:31:26,342 INFO spawned: \\'iot\\' with pid 10\\n2018-06-12 20:31:26,344 INFO spawned: \\'gunicorn\\' with pid 11\\n2018-06-12 20:31:26,396 INFO success: iot entered RUNNING state, process has stayed up for > than 0 seconds (startsecs)\\nEdgeHubConnectionString and IOTEDGE_IOTHUBHOSTNAME are not set. Exiting...\\n2018-06-12 20:31:26,486 INFO exited: iot (exit status 1; expected)\\n2018-06-12 20:31:27,488 INFO success: rsyslog entered RUNNING state, process has stayed up for > than 1 seconds (startsecs)\\n2018-06-12 20:31:27,488 INFO success: program_exit entered RUNNING state, process has stayed up for > than 1 seconds (startsecs)\\n2018-06-12 20:31:31,492 INFO success: nginx entered RUNNING state, process has stayed up for > than 5 seconds (startsecs)\\n{\"path\": \"/home/mmlspark/lib/conda/lib/python3.5/site-packages/gunicorn/glogging.py\", \"logger\": \"gunicorn.error\", \"host\": \"caas-348109ba64d748e08a69bf02c233be0b-1206223726-bm0r8\", \"timestamp\": \"2018-06-12T20:31:31.808373Z\", \"tags\": \"%(module)s, %(asctime)s, %(levelname)s, %(message)s\", \"stack_info\": null, \"level\": \"INFO\", \"message\": \"Starting gunicorn 19.6.0\", \"msg\": \"Starting gunicorn %s\"}\\n{\"path\": \"/home/mmlspark/lib/conda/lib/python3.5/site-packages/gunicorn/glogging.py\", \"logger\": \"gunicorn.error\", \"host\": \"caas-348109ba64d748e08a69bf02c233be0b-1206223726-bm0r8\", \"timestamp\": \"2018-06-12T20:31:31.810086Z\", \"tags\": \"%(module)s, %(asctime)s, %(levelname)s, %(message)s\", \"stack_info\": null, \"level\": \"INFO\", \"message\": \"Listening at: http://127.0.0.1:9090 (11)\", \"msg\": \"Listening at: %s (%s)\"}\\n{\"path\": \"/home/mmlspark/lib/conda/lib/python3.5/site-packages/gunicorn/glogging.py\", \"logger\": \"gunicorn.error\", \"host\": \"caas-348109ba64d748e08a69bf02c233be0b-1206223726-bm0r8\", \"timestamp\": \"2018-06-12T20:31:31.810481Z\", \"tags\": \"%(module)s, %(asctime)s, %(levelname)s, %(message)s\", \"stack_info\": null, \"level\": \"INFO\", \"message\": \"Using worker: sync\", \"msg\": \"Using worker: %s\"}\\n{\"path\": \"/home/mmlspark/lib/conda/lib/python3.5/site-packages/gunicorn/glogging.py\", \"logger\": \"gunicorn.error\", \"host\": \"caas-348109ba64d748e08a69bf02c233be0b-1206223726-bm0r8\", \"timestamp\": \"2018-06-12T20:31:31.811715Z\", \"tags\": \"%(module)s, %(asctime)s, %(levelname)s, %(message)s\", \"stack_info\": null, \"level\": \"INFO\", \"message\": \"worker timeout is set to 300\"}\\n{\"path\": \"/home/mmlspark/lib/conda/lib/python3.5/site-packages/gunicorn/glogging.py\", \"logger\": \"gunicorn.error\", \"host\": \"caas-348109ba64d748e08a69bf02c233be0b-1206223726-bm0r8\", \"timestamp\": \"2018-06-12T20:31:31.812826Z\", \"tags\": \"%(module)s, %(asctime)s, %(levelname)s, %(message)s\", \"stack_info\": null, \"level\": \"INFO\", \"message\": \"Booting worker with pid: 24\", \"msg\": \"Booting worker with pid: %s\"}\\nInitializing logger\\n{\"path\": \"/var/azureml-app/aml_logger.py\", \"logger\": \"root\", \"host\": \"caas-348109ba64d748e08a69bf02c233be0b-1206223726-bm0r8\", \"timestamp\": \"2018-06-12T20:31:33.497483Z\", \"tags\": \"%(module)s, %(asctime)s, %(levelname)s, %(message)s\", \"stack_info\": null, \"level\": \"INFO\", \"message\": \"{\\\\\"apiName\\\\\": \\\\\"\\\\\", \\\\\"message\\\\\": \\\\\"Starting up app insights client\\\\\", \\\\\"requestId\\\\\": \\\\\"00000000-0000-0000-0000-000000000000\\\\\"}\"}\\n{\"path\": \"/var/azureml-app/aml_logger.py\", \"logger\": \"root\", \"host\": \"caas-348109ba64d748e08a69bf02c233be0b-1206223726-bm0r8\", \"timestamp\": \"2018-06-12T20:31:33.498272Z\", \"tags\": \"%(module)s, %(asctime)s, %(levelname)s, %(message)s\", \"stack_info\": null, \"level\": \"INFO\", \"message\": \"{\\\\\"apiName\\\\\": \\\\\"\\\\\", \\\\\"message\\\\\": \\\\\"Starting up request id generator\\\\\", \\\\\"requestId\\\\\": \\\\\"00000000-0000-0000-0000-000000000000\\\\\"}\"}\\n{\"path\": \"/var/azureml-app/aml_logger.py\", \"logger\": \"root\", \"host\": \"caas-348109ba64d748e08a69bf02c233be0b-1206223726-bm0r8\", \"timestamp\": \"2018-06-12T20:31:33.499203Z\", \"tags\": \"%(module)s, %(asctime)s, %(levelname)s, %(message)s\", \"stack_info\": null, \"level\": \"INFO\", \"message\": \"{\\\\\"apiName\\\\\": \\\\\"\\\\\", \\\\\"message\\\\\": \\\\\"Starting up app insight hooks\\\\\", \\\\\"requestId\\\\\": \\\\\"00000000-0000-0000-0000-000000000000\\\\\"}\"}\\n{\"path\": \"/var/azureml-app/aml_logger.py\", \"logger\": \"root\", \"host\": \"caas-348109ba64d748e08a69bf02c233be0b-1206223726-bm0r8\", \"timestamp\": \"2018-06-12T20:31:33.499611Z\", \"tags\": \"%(module)s, %(asctime)s, %(levelname)s, %(message)s\", \"stack_info\": null, \"level\": \"INFO\", \"message\": \"{\\\\\"apiName\\\\\": \\\\\"\\\\\", \\\\\"message\\\\\": \\\\\"Invoking user\\'s init function\\\\\", \\\\\"requestId\\\\\": \\\\\"00000000-0000-0000-0000-000000000000\\\\\"}\"}\\n{\"path\": \"/var/azureml-app/aml_logger.py\", \"logger\": \"root\", \"host\": \"caas-348109ba64d748e08a69bf02c233be0b-1206223726-bm0r8\", \"timestamp\": \"2018-06-12T20:31:33.501337Z\", \"tags\": \"%(module)s, %(asctime)s, %(levelname)s, %(message)s\", \"stack_info\": null, \"level\": \"ERROR\", \"message\": \"{\\\\\"apiName\\\\\": \\\\\"\\\\\", \\\\\"message\\\\\": \\\\\"User\\'s init function failed\\\\\", \\\\\"requestId\\\\\": \\\\\"00000000-0000-0000-0000-000000000000\\\\\"}\"}\\n{\"path\": \"/var/azureml-app/aml_logger.py\", \"logger\": \"root\", \"host\": \"caas-348109ba64d748e08a69bf02c233be0b-1206223726-bm0r8\", \"timestamp\": \"2018-06-12T20:31:33.503023Z\", \"tags\": \"%(module)s, %(asctime)s, %(levelname)s, %(message)s\", \"stack_info\": null, \"level\": \"ERROR\", \"message\": \"{\\\\\"apiName\\\\\": \\\\\"\\\\\", \\\\\"message\\\\\": \\\\\"Encountered Exception Traceback (most recent call last):\\\\\\\\n  File \\\\\\\\\\\\\"/var/azureml-app/aml_blueprint.py\\\\\\\\\\\\\", line 109, in register\\\\\\\\n    main.init()\\\\\\\\n  File \\\\\\\\\\\\\"/var/azureml-app/main.py\\\\\\\\\\\\\", line 64, in init\\\\\\\\n    driver_module.init()\\\\\\\\n  File \\\\\\\\\\\\\"score.py\\\\\\\\\\\\\", line 9, in init\\\\\\\\n    model = joblib.load(\\\\\\\\\\\\\"attack_model.pkl\\\\\\\\\\\\\")\\\\\\\\n  File \\\\\\\\\\\\\"/home/mmlspark/lib/conda/lib/python3.5/site-packages/sklearn/externals/joblib/numpy_pickle.py\\\\\\\\\\\\\", line 567, in load\\\\\\\\n    with open(filename, \\'rb\\') as f:\\\\\\\\nFileNotFoundError: [Errno 2] No such file or directory: \\'attack_model.pkl\\'\\\\\\\\n\\\\\", \\\\\"requestId\\\\\": \\\\\"00000000-0000-0000-0000-000000000000\\\\\"}\"}\\n{\"path\": \"/home/mmlspark/lib/conda/lib/python3.5/site-packages/gunicorn/glogging.py\", \"logger\": \"gunicorn.error\", \"host\": \"caas-348109ba64d748e08a69bf02c233be0b-1206223726-bm0r8\", \"timestamp\": \"2018-06-12T20:31:33.503571Z\", \"tags\": \"%(module)s, %(asctime)s, %(levelname)s, %(message)s\", \"stack_info\": null, \"level\": \"INFO\", \"message\": \"Worker exiting (pid: 24)\", \"msg\": \"Worker exiting (pid: %s)\"}\\n{\"path\": \"/home/mmlspark/lib/conda/lib/python3.5/site-packages/gunicorn/glogging.py\", \"logger\": \"gunicorn.error\", \"host\": \"caas-348109ba64d748e08a69bf02c233be0b-1206223726-bm0r8\", \"timestamp\": \"2018-06-12T20:31:33.591602Z\", \"tags\": \"%(module)s, %(asctime)s, %(levelname)s, %(message)s\", \"stack_info\": null, \"level\": \"INFO\", \"message\": \"Shutting down: Master\", \"msg\": \"Shutting down: %s\"}\\n{\"path\": \"/home/mmlspark/lib/conda/lib/python3.5/site-packages/gunicorn/glogging.py\", \"logger\": \"gunicorn.error\", \"host\": \"caas-348109ba64d748e08a69bf02c233be0b-1206223726-bm0r8\", \"timestamp\": \"2018-06-12T20:31:33.592006Z\", \"tags\": \"%(module)s, %(asctime)s, %(levelname)s, %(message)s\", \"stack_info\": null, \"level\": \"INFO\", \"message\": \"Reason: Worker failed to boot.\", \"msg\": \"Reason: %s\"}\\n2018-06-12 20:31:33,619 INFO exited: gunicorn (exit status 3; not expected)\\n2018-06-12 20:31:34,622 INFO spawned: \\'gunicorn\\' with pid 27\\n{\"path\": \"/home/mmlspark/lib/conda/lib/python3.5/site-packages/gunicorn/glogging.py\", \"message\": \"Starting gunicorn 19.6.0\", \"timestamp\": \"2018-06-12T20:31:40.050942Z\", \"stack_info\": null, \"logger\": \"gunicorn.error\", \"host\": \"caas-348109ba64d748e08a69bf02c233be0b-1206223726-bm0r8\", \"tags\": \"%(module)s, %(asctime)s, %(levelname)s, %(message)s\", \"msg\": \"Starting gunicorn %s\", \"level\": \"INFO\"}\\n{\"path\": \"/home/mmlspark/lib/conda/lib/python3.5/site-packages/gunicorn/glogging.py\", \"message\": \"Listening at: http://127.0.0.1:9090 (27)\", \"timestamp\": \"2018-06-12T20:31:40.052608Z\", \"stack_info\": null, \"logger\": \"gunicorn.error\", \"host\": \"caas-348109ba64d748e08a69bf02c233be0b-1206223726-bm0r8\", \"tags\": \"%(module)s, %(asctime)s, %(levelname)s, %(message)s\", \"msg\": \"Listening at: %s (%s)\", \"level\": \"INFO\"}\\n{\"path\": \"/home/mmlspark/lib/conda/lib/python3.5/site-packages/gunicorn/glogging.py\", \"message\": \"Using worker: sync\", \"timestamp\": \"2018-06-12T20:31:40.053028Z\", \"stack_info\": null, \"logger\": \"gunicorn.error\", \"host\": \"caas-348109ba64d748e08a69bf02c233be0b-1206223726-bm0r8\", \"tags\": \"%(module)s, %(asctime)s, %(levelname)s, %(message)s\", \"msg\": \"Using worker: %s\", \"level\": \"INFO\"}\\n{\"path\": \"/home/mmlspark/lib/conda/lib/python3.5/site-packages/gunicorn/glogging.py\", \"message\": \"worker timeout is set to 300\", \"timestamp\": \"2018-06-12T20:31:40.054434Z\", \"stack_info\": null, \"logger\": \"gunicorn.error\", \"host\": \"caas-348109ba64d748e08a69bf02c233be0b-1206223726-bm0r8\", \"tags\": \"%(module)s, %(asctime)s, %(levelname)s, %(message)s\", \"level\": \"INFO\"}\\n{\"path\": \"/home/mmlspark/lib/conda/lib/python3.5/site-packages/gunicorn/glogging.py\", \"message\": \"Booting worker with pid: 31\", \"timestamp\": \"2018-06-12T20:31:40.055847Z\", \"stack_info\": null, \"logger\": \"gunicorn.error\", \"host\": \"caas-348109ba64d748e08a69bf02c233be0b-1206223726-bm0r8\", \"tags\": \"%(module)s, %(asctime)s, %(levelname)s, %(message)s\", \"msg\": \"Booting worker with pid: %s\", \"level\": \"INFO\"}\\nInitializing logger\\n{\"path\": \"/var/azureml-app/aml_logger.py\", \"message\": \"{\\\\\"message\\\\\": \\\\\"Starting up app insights client\\\\\", \\\\\"requestId\\\\\": \\\\\"00000000-0000-0000-0000-000000000000\\\\\", \\\\\"apiName\\\\\": \\\\\"\\\\\"}\", \"timestamp\": \"2018-06-12T20:31:40.975259Z\", \"stack_info\": null, \"logger\": \"root\", \"host\": \"caas-348109ba64d748e08a69bf02c233be0b-1206223726-bm0r8\", \"tags\": \"%(module)s, %(asctime)s, %(levelname)s, %(message)s\", \"level\": \"INFO\"}\\n{\"path\": \"/var/azureml-app/aml_logger.py\", \"message\": \"{\\\\\"message\\\\\": \\\\\"Starting up request id generator\\\\\", \\\\\"requestId\\\\\": \\\\\"00000000-0000-0000-0000-000000000000\\\\\", \\\\\"apiName\\\\\": \\\\\"\\\\\"}\", \"timestamp\": \"2018-06-12T20:31:40.975923Z\", \"stack_info\": null, \"logger\": \"root\", \"host\": \"caas-348109ba64d748e08a69bf02c233be0b-1206223726-bm0r8\", \"tags\": \"%(module)s, %(asctime)s, %(levelname)s, %(message)s\", \"level\": \"INFO\"}\\n{\"path\": \"/var/azureml-app/aml_logger.py\", \"message\": \"{\\\\\"message\\\\\": \\\\\"Starting up app insight hooks\\\\\", \\\\\"requestId\\\\\": \\\\\"00000000-0000-0000-0000-000000000000\\\\\", \\\\\"apiName\\\\\": \\\\\"\\\\\"}\", \"timestamp\": \"2018-06-12T20:31:40.976347Z\", \"stack_info\": null, \"logger\": \"root\", \"host\": \"caas-348109ba64d748e08a69bf02c233be0b-1206223726-bm0r8\", \"tags\": \"%(module)s, %(asctime)s, %(levelname)s, %(message)s\", \"level\": \"INFO\"}\\n{\"path\": \"/var/azureml-app/aml_logger.py\", \"message\": \"{\\\\\"message\\\\\": \\\\\"Invoking user\\'s init function\\\\\", \\\\\"requestId\\\\\": \\\\\"00000000-0000-0000-0000-000000000000\\\\\", \\\\\"apiName\\\\\": \\\\\"\\\\\"}\", \"timestamp\": \"2018-06-12T20:31:40.976796Z\", \"stack_info\": null, \"logger\": \"root\", \"host\": \"caas-348109ba64d748e08a69bf02c233be0b-1206223726-bm0r8\", \"tags\": \"%(module)s, %(asctime)s, %(levelname)s, %(message)s\", \"level\": \"INFO\"}\\n{\"path\": \"/var/azureml-app/aml_logger.py\", \"message\": \"{\\\\\"message\\\\\": \\\\\"User\\'s init function failed\\\\\", \\\\\"requestId\\\\\": \\\\\"00000000-0000-0000-0000-000000000000\\\\\", \\\\\"apiName\\\\\": \\\\\"\\\\\"}\", \"timestamp\": \"2018-06-12T20:31:40.982243Z\", \"stack_info\": null, \"logger\": \"root\", \"host\": \"caas-348109ba64d748e08a69bf02c233be0b-1206223726-bm0r8\", \"tags\": \"%(module)s, %(asctime)s, %(levelname)s, %(message)s\", \"level\": \"ERROR\"}\\n{\"path\": \"/var/azureml-app/aml_logger.py\", \"message\": \"{\\\\\"message\\\\\": \\\\\"Encountered Exception Traceback (most recent call last):\\\\\\\\n  File \\\\\\\\\\\\\"/var/azureml-app/aml_blueprint.py\\\\\\\\\\\\\", line 109, in register\\\\\\\\n    main.init()\\\\\\\\n  File \\\\\\\\\\\\\"/var/azureml-app/main.py\\\\\\\\\\\\\", line 64, in init\\\\\\\\n    driver_module.init()\\\\\\\\n  File \\\\\\\\\\\\\"score.py\\\\\\\\\\\\\", line 9, in init\\\\\\\\n    model = joblib.load(\\\\\\\\\\\\\"attack_model.pkl\\\\\\\\\\\\\")\\\\\\\\n  File \\\\\\\\\\\\\"/home/mmlspark/lib/conda/lib/python3.5/site-packages/sklearn/externals/joblib/numpy_pickle.py\\\\\\\\\\\\\", line 567, in load\\\\\\\\n    with open(filename, \\'rb\\') as f:\\\\\\\\nFileNotFoundError: [Errno 2] No such file or directory: \\'attack_model.pkl\\'\\\\\\\\n\\\\\", \\\\\"requestId\\\\\": \\\\\"00000000-0000-0000-0000-000000000000\\\\\", \\\\\"apiName\\\\\": \\\\\"\\\\\"}\", \"timestamp\": \"2018-06-12T20:31:40.983933Z\", \"stack_info\": null, \"logger\": \"root\", \"host\": \"caas-348109ba64d748e08a69bf02c233be0b-1206223726-bm0r8\", \"tags\": \"%(module)s, %(asctime)s, %(levelname)s, %(message)s\", \"level\": \"ERROR\"}\\n{\"path\": \"/home/mmlspark/lib/conda/lib/python3.5/site-packages/gunicorn/glogging.py\", \"message\": \"Worker exiting (pid: 31)\", \"timestamp\": \"2018-06-12T20:31:40.984263Z\", \"stack_info\": null, \"logger\": \"gunicorn.error\", \"host\": \"caas-348109ba64d748e08a69bf02c233be0b-1206223726-bm0r8\", \"tags\": \"%(module)s, %(asctime)s, %(levelname)s, %(message)s\", \"msg\": \"Worker exiting (pid: %s)\", \"level\": \"INFO\"}\\n{\"path\": \"/home/mmlspark/lib/conda/lib/python3.5/site-packages/gunicorn/glogging.py\", \"message\": \"Shutting down: Master\", \"timestamp\": \"2018-06-12T20:31:41.078457Z\", \"stack_info\": null, \"logger\": \"gunicorn.error\", \"host\": \"caas-348109ba64d748e08a69bf02c233be0b-1206223726-bm0r8\", \"tags\": \"%(module)s, %(asctime)s, %(levelname)s, %(message)s\", \"msg\": \"Shutting down: %s\", \"level\": \"INFO\"}\\n{\"path\": \"/home/mmlspark/lib/conda/lib/python3.5/site-packages/gunicorn/glogging.py\", \"message\": \"Reason: Worker failed to boot.\", \"timestamp\": \"2018-06-12T20:31:41.078884Z\", \"stack_info\": null, \"logger\": \"gunicorn.error\", \"host\": \"caas-348109ba64d748e08a69bf02c233be0b-1206223726-bm0r8\", \"tags\": \"%(module)s, %(asctime)s, %(levelname)s, %(message)s\", \"msg\": \"Reason: %s\", \"level\": \"INFO\"}\\n2018-06-12 20:31:41,111 INFO exited: gunicorn (exit status 3; not expected)\\n2018-06-12 20:31:42,113 INFO gave up: gunicorn entered FATAL state, too many start retries too quickly\\n2018-06-12 20:31:43,114 WARN received SIGQUIT indicating exit request\\n2018-06-12 20:31:43,115 INFO waiting for nginx, rsyslog, program_exit to die\\n2018-06-12 20:31:43,115 WARN program_exit: bad result line: \\'Killing supervisor with this event: ver:3.0 server:supervisor serial:0 pool:program_exit poolserial:0 eventname:PROCESS_STATE_FATAL len:58\\'\\n2018-06-12 20:31:43,115 WARN program_exit: has entered the UNKNOWN state and will no longer receive events, this usually indicates the process violated the eventlistener protocol\\n2018-06-12 20:31:44,118 INFO stopped: nginx (exit status 0)\\n2018-06-12 20:31:44,119 INFO stopped: program_exit (terminated by SIGTERM)\\n2018-06-12 20:31:44,120 INFO stopped: rsyslog (exit status 0)\\n'"
      ]
     },
     "execution_count": 50,
     "metadata": {},
     "output_type": "execute_result"
    }
   ],
   "source": [
    "service.get_logs()"
   ]
  }
 ],
 "metadata": {
  "kernelspec": {
   "display_name": "Python [conda env:myenv]",
   "language": "python",
   "name": "conda-env-myenv-py"
  },
  "language_info": {
   "codemirror_mode": {
    "name": "ipython",
    "version": 3
   },
   "file_extension": ".py",
   "mimetype": "text/x-python",
   "name": "python",
   "nbconvert_exporter": "python",
   "pygments_lexer": "ipython3",
   "version": "3.6.5"
  }
 },
 "nbformat": 4,
 "nbformat_minor": 2
}
